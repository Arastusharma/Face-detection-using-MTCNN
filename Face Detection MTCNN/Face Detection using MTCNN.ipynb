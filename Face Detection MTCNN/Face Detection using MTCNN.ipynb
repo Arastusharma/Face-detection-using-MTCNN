{
 "cells": [
  {
   "cell_type": "code",
   "execution_count": 1,
   "id": "capital-device",
   "metadata": {},
   "outputs": [],
   "source": [
    "from mtcnn import MTCNN"
   ]
  },
  {
   "cell_type": "code",
   "execution_count": 2,
   "id": "promotional-roberts",
   "metadata": {},
   "outputs": [],
   "source": [
    "import cv2"
   ]
  },
  {
   "cell_type": "code",
   "execution_count": 3,
   "id": "mounted-isolation",
   "metadata": {},
   "outputs": [],
   "source": [
    "detector = MTCNN()"
   ]
  },
  {
   "cell_type": "code",
   "execution_count": 80,
   "id": "closed-mouse",
   "metadata": {},
   "outputs": [],
   "source": [
    "img=cv2.imread('images/hollywood.jpg')"
   ]
  },
  {
   "cell_type": "code",
   "execution_count": 81,
   "id": "massive-detail",
   "metadata": {},
   "outputs": [
    {
     "name": "stdout",
     "output_type": "stream",
     "text": [
      "WARNING:tensorflow:11 out of the last 11 calls to <function _make_execution_function.<locals>.distributed_function at 0x00000226305E37B8> triggered tf.function retracing. Tracing is expensive and the excessive number of tracings is likely due to passing python objects instead of tensors. Also, tf.function has experimental_relax_shapes=True option that relaxes argument shapes that can avoid unnecessary retracing. Please refer to https://www.tensorflow.org/tutorials/customization/performance#python_or_tensor_args and https://www.tensorflow.org/api_docs/python/tf/function for more details.\n",
      "WARNING:tensorflow:11 out of the last 11 calls to <function _make_execution_function.<locals>.distributed_function at 0x00000226305E37B8> triggered tf.function retracing. Tracing is expensive and the excessive number of tracings is likely due to passing python objects instead of tensors. Also, tf.function has experimental_relax_shapes=True option that relaxes argument shapes that can avoid unnecessary retracing. Please refer to https://www.tensorflow.org/tutorials/customization/performance#python_or_tensor_args and https://www.tensorflow.org/api_docs/python/tf/function for more details.\n",
      "WARNING:tensorflow:11 out of the last 11 calls to <function _make_execution_function.<locals>.distributed_function at 0x00000226305E37B8> triggered tf.function retracing. Tracing is expensive and the excessive number of tracings is likely due to passing python objects instead of tensors. Also, tf.function has experimental_relax_shapes=True option that relaxes argument shapes that can avoid unnecessary retracing. Please refer to https://www.tensorflow.org/tutorials/customization/performance#python_or_tensor_args and https://www.tensorflow.org/api_docs/python/tf/function for more details.\n",
      "WARNING:tensorflow:11 out of the last 11 calls to <function _make_execution_function.<locals>.distributed_function at 0x00000226305E37B8> triggered tf.function retracing. Tracing is expensive and the excessive number of tracings is likely due to passing python objects instead of tensors. Also, tf.function has experimental_relax_shapes=True option that relaxes argument shapes that can avoid unnecessary retracing. Please refer to https://www.tensorflow.org/tutorials/customization/performance#python_or_tensor_args and https://www.tensorflow.org/api_docs/python/tf/function for more details.\n",
      "WARNING:tensorflow:11 out of the last 11 calls to <function _make_execution_function.<locals>.distributed_function at 0x00000226305E37B8> triggered tf.function retracing. Tracing is expensive and the excessive number of tracings is likely due to passing python objects instead of tensors. Also, tf.function has experimental_relax_shapes=True option that relaxes argument shapes that can avoid unnecessary retracing. Please refer to https://www.tensorflow.org/tutorials/customization/performance#python_or_tensor_args and https://www.tensorflow.org/api_docs/python/tf/function for more details.\n",
      "WARNING:tensorflow:11 out of the last 11 calls to <function _make_execution_function.<locals>.distributed_function at 0x00000226305E37B8> triggered tf.function retracing. Tracing is expensive and the excessive number of tracings is likely due to passing python objects instead of tensors. Also, tf.function has experimental_relax_shapes=True option that relaxes argument shapes that can avoid unnecessary retracing. Please refer to https://www.tensorflow.org/tutorials/customization/performance#python_or_tensor_args and https://www.tensorflow.org/api_docs/python/tf/function for more details.\n",
      "WARNING:tensorflow:11 out of the last 11 calls to <function _make_execution_function.<locals>.distributed_function at 0x00000226305E37B8> triggered tf.function retracing. Tracing is expensive and the excessive number of tracings is likely due to passing python objects instead of tensors. Also, tf.function has experimental_relax_shapes=True option that relaxes argument shapes that can avoid unnecessary retracing. Please refer to https://www.tensorflow.org/tutorials/customization/performance#python_or_tensor_args and https://www.tensorflow.org/api_docs/python/tf/function for more details.\n",
      "WARNING:tensorflow:11 out of the last 11 calls to <function _make_execution_function.<locals>.distributed_function at 0x00000226305E37B8> triggered tf.function retracing. Tracing is expensive and the excessive number of tracings is likely due to passing python objects instead of tensors. Also, tf.function has experimental_relax_shapes=True option that relaxes argument shapes that can avoid unnecessary retracing. Please refer to https://www.tensorflow.org/tutorials/customization/performance#python_or_tensor_args and https://www.tensorflow.org/api_docs/python/tf/function for more details.\n",
      "WARNING:tensorflow:11 out of the last 11 calls to <function _make_execution_function.<locals>.distributed_function at 0x00000226305E37B8> triggered tf.function retracing. Tracing is expensive and the excessive number of tracings is likely due to passing python objects instead of tensors. Also, tf.function has experimental_relax_shapes=True option that relaxes argument shapes that can avoid unnecessary retracing. Please refer to https://www.tensorflow.org/tutorials/customization/performance#python_or_tensor_args and https://www.tensorflow.org/api_docs/python/tf/function for more details.\n"
     ]
    }
   ],
   "source": [
    "output=detector.detect_faces(img)"
   ]
  },
  {
   "cell_type": "code",
   "execution_count": 82,
   "id": "photographic-national",
   "metadata": {},
   "outputs": [
    {
     "name": "stdout",
     "output_type": "stream",
     "text": [
      "[{'box': [141, 43, 57, 76], 'confidence': 0.9998887777328491, 'keypoints': {'left_eye': (149, 68), 'right_eye': (172, 71), 'nose': (151, 84), 'mouth_left': (148, 99), 'mouth_right': (168, 101)}}, {'box': [421, 225, 98, 120], 'confidence': 0.9997764229774475, 'keypoints': {'left_eye': (446, 271), 'right_eye': (494, 270), 'nose': (469, 299), 'mouth_left': (451, 319), 'mouth_right': (492, 319)}}, {'box': [373, 56, 88, 110], 'confidence': 0.9996427297592163, 'keypoints': {'left_eye': (394, 103), 'right_eye': (433, 96), 'nose': (416, 123), 'mouth_left': (401, 140), 'mouth_right': (440, 133)}}, {'box': [48, 228, 108, 136], 'confidence': 0.9993133544921875, 'keypoints': {'left_eye': (94, 277), 'right_eye': (142, 281), 'nose': (126, 305), 'mouth_left': (92, 328), 'mouth_right': (136, 333)}}, {'box': [226, 239, 100, 130], 'confidence': 0.9986384510993958, 'keypoints': {'left_eye': (254, 293), 'right_eye': (301, 290), 'nose': (279, 319), 'mouth_left': (256, 336), 'mouth_right': (304, 334)}}]\n"
     ]
    }
   ],
   "source": [
    "print(output) # this will give us an key value pair   185,49 are the first point corrdinates and 82 is width and 100 is height"
   ]
  },
  {
   "cell_type": "code",
   "execution_count": 83,
   "id": "simple-optimum",
   "metadata": {},
   "outputs": [],
   "source": [
    "#now we will try to draw face using the above coordinates\n",
    "#so for that i will be using open cv"
   ]
  },
  {
   "cell_type": "code",
   "execution_count": null,
   "id": "understanding-insurance",
   "metadata": {},
   "outputs": [],
   "source": []
  },
  {
   "cell_type": "code",
   "execution_count": 84,
   "id": "elect-substitute",
   "metadata": {},
   "outputs": [
    {
     "data": {
      "text/plain": [
       "-1"
      ]
     },
     "execution_count": 84,
     "metadata": {},
     "output_type": "execute_result"
    }
   ],
   "source": [
    "#opencv requires atleast two points to draw rectangle we can take that from aboe output\n",
    "\n",
    "x,y,width,height=output[0]['box']\n",
    "\n",
    "\n",
    "#we will showing the facial landmarks\n",
    "#the below will help to detect the multiple faces\n",
    "for i in output:\n",
    "    x,y,width,height=i['box']\n",
    "    lefteye_x,lefteye_y=i['keypoints']['left_eye']\n",
    "    righteye_x,righteye_y=i['keypoints']['right_eye']\n",
    "    noseX,noseY=i['keypoints']['nose']\n",
    "    mouth_leftx,mouth_lefty=i['keypoints']['mouth_left']\n",
    "    mouth_rightx,mouth_righty=i['keypoints']['mouth_right']\n",
    "\n",
    "\n",
    "    cv2.circle(img,center=(lefteye_x,lefteye_y),color=(255,0,0),thickness=3,radius=2)\n",
    "    cv2.circle(img,center=(righteye_x,righteye_y),color=(255,0,0),thickness=3,radius=2)\n",
    "    cv2.circle(img,center=(noseX,noseY),color=(255,0,0),thickness=3,radius=2)\n",
    "    cv2.circle(img,center=(mouth_leftx,mouth_lefty),color=(255,0,0),thickness=3,radius=2)\n",
    "    cv2.circle(img,center=(mouth_rightx,mouth_righty),color=(255,0,0),thickness=3,radius=2)\n",
    "\n",
    "    cv2.rectangle(img,pt1=(x,y),pt2=(x+width,y+height),color=(255,0,0),thickness=3)\n",
    "cv2.imshow('window',img)\n",
    "\n",
    "cv2.waitKey(0)"
   ]
  },
  {
   "cell_type": "code",
   "execution_count": 46,
   "id": "stretch-dealer",
   "metadata": {},
   "outputs": [],
   "source": [
    "#Now we will be detecting the facial landmarks"
   ]
  },
  {
   "cell_type": "code",
   "execution_count": null,
   "id": "loving-punch",
   "metadata": {},
   "outputs": [],
   "source": [
    "#Here the keypoints from the output will be used"
   ]
  }
 ],
 "metadata": {
  "kernelspec": {
   "display_name": "Python 3",
   "language": "python",
   "name": "python3"
  },
  "language_info": {
   "codemirror_mode": {
    "name": "ipython",
    "version": 3
   },
   "file_extension": ".py",
   "mimetype": "text/x-python",
   "name": "python",
   "nbconvert_exporter": "python",
   "pygments_lexer": "ipython3",
   "version": "3.6.12"
  }
 },
 "nbformat": 4,
 "nbformat_minor": 5
}
